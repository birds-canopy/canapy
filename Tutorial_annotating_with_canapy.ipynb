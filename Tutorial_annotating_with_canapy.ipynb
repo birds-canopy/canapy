{
 "cells": [
  {
   "cell_type": "markdown",
   "metadata": {
    "collapsed": false,
    "jupyter": {
     "outputs_hidden": false
    }
   },
   "source": [
    "# Annotating data with canapy - tutorial"
   ]
  },
  {
   "cell_type": "markdown",
   "metadata": {},
   "source": [
    "With Canapy you can train an AI model to annotate bird songs. This tutorial shows you how to use this trained model to annotate data."
   ]
  },
  {
   "cell_type": "markdown",
   "metadata": {},
   "source": [
    "## Import libraries"
   ]
  },
  {
   "cell_type": "code",
   "execution_count": 1,
   "metadata": {
    "ExecuteTime": {
     "end_time": "2023-07-21T08:18:29.957588414Z",
     "start_time": "2023-07-21T08:18:28.389999421Z"
    },
    "collapsed": false,
    "jupyter": {
     "outputs_hidden": false
    },
    "pycharm": {
     "is_executing": true
    }
   },
   "outputs": [],
   "source": [
    "from canapy.corpus import Corpus\n",
    "from canapy.annotator import get_annotator\n",
    "from config import default_config\n",
    "from canapy import metrics"
   ]
  },
  {
   "cell_type": "markdown",
   "metadata": {},
   "source": [
    "## Create Annotators\n",
    "\n",
    "First, you have to create an Annotator object, there is three types possible:"
   ]
  },
  {
   "cell_type": "code",
   "execution_count": 2,
   "metadata": {
    "ExecuteTime": {
     "end_time": "2023-07-21T08:18:30.016946274Z",
     "start_time": "2023-07-21T08:18:29.999853748Z"
    }
   },
   "outputs": [],
   "source": [
    "syn_annotator = get_annotator(\"syn-esn\")(default_config, \"./tuto/spec\")\n",
    "nsyn_annotator = get_annotator(\"nsyn-esn\")(default_config, \"./tuto/spec\")\n",
    "ensemble_annotator = get_annotator(\"ensemble\")(default_config, \"./tuto/spec\")"
   ]
  },
  {
   "cell_type": "markdown",
   "metadata": {},
   "source": [
    "It has been given to all of them the `default_config`, but you can create your own configuration and applied it on your annotators.\n"
   ]
  },
  {
   "cell_type": "markdown",
   "metadata": {
    "collapsed": false,
    "jupyter": {
     "outputs_hidden": false
    }
   },
   "source": [
    "## Import Data\n",
    "\n",
    "Then you need to import an annotated corpus to train annotators, and a corpus that you want to annotate :"
   ]
  },
  {
   "cell_type": "code",
   "execution_count": 3,
   "metadata": {
    "ExecuteTime": {
     "end_time": "2023-07-21T08:18:30.459438804Z",
     "start_time": "2023-07-21T08:18:30.000887885Z"
    },
    "collapsed": false,
    "jupyter": {
     "outputs_hidden": false
    },
    "scrolled": true
   },
   "outputs": [],
   "source": [
    "corpus_annotated_songs = Corpus.from_directory(\n",
    "    audio_directory=\"/home/nathan/Documents/Code/canapy-test/data_short\",\n",
    "    annots_directory=\"/home/nathan/Documents/Code/canapy-test/data_short\"\n",
    ")\n",
    "\n",
    "corpus_non_annotated_songs = Corpus.from_directory(\n",
    "    audio_directory=\"/home/nathan/Documents/Code/canapy-test/data_short\"\n",
    ")"
   ]
  },
  {
   "cell_type": "code",
   "execution_count": 4,
   "metadata": {},
   "outputs": [
    {
     "data": {
      "text/plain": [
       "18"
      ]
     },
     "execution_count": 4,
     "metadata": {},
     "output_type": "execute_result"
    }
   ],
   "source": [
    "len(corpus_annotated_songs)"
   ]
  },
  {
   "cell_type": "markdown",
   "metadata": {
    "collapsed": false,
    "jupyter": {
     "outputs_hidden": false
    }
   },
   "source": [
    "In this example, the `/tuto/annotated_songs` directory contains some .wav audio files and a .csv annotation files for each whereas `/tuto/non_annotated_songs` directory contains only .wav audio files, one per song, ready to be annotated.\n",
    "\n",
    "The Corpus object stores the dataset in the form of a Pandas Dataframe, in the last case only paths to audio files, but can also store annotations as in the first case."
   ]
  },
  {
   "cell_type": "markdown",
   "metadata": {
    "collapsed": false,
    "jupyter": {
     "outputs_hidden": false
    }
   },
   "source": [
    "## Train Annotators\n",
    "\n",
    "Every annotator needs to be trained before any manipulation :"
   ]
  },
  {
   "cell_type": "code",
   "execution_count": 5,
   "metadata": {
    "ExecuteTime": {
     "end_time": "2023-07-21T08:20:13.694287862Z",
     "start_time": "2023-07-21T08:18:30.462173310Z"
    },
    "collapsed": false,
    "jupyter": {
     "outputs_hidden": false
    }
   },
   "outputs": [
    {
     "name": "stderr",
     "output_type": "stream",
     "text": [
      "INFO:canapy:Applying audio transform compute_mfcc on ((<Corpus at (audio) /home/nathan/Documents/Code/canapy-test/data_short | (annots) /home/nathan/Documents/Code/canapy-test/data_short.>,), {'output_directory': PosixPath('tuto/spec'), 'resource_name': 'syn_mfcc', 'redo': False}).\n",
      "INFO:canapy:Applying corpus transform sort_annotations on ((<Corpus at (audio) /home/nathan/Documents/Code/canapy-test/data_short | (annots) /home/nathan/Documents/Code/canapy-test/data_short.>,), {'redo': False}).\n",
      "INFO:canapy:Applying corpus transform merge_labels on ((<Corpus at (audio) /home/nathan/Documents/Code/canapy-test/data_short | (annots) /home/nathan/Documents/Code/canapy-test/data_short.>,), {'redo': False}).\n",
      "INFO:canapy:Applying corpus transform sort_annotations on ((<Corpus at (audio) /home/nathan/Documents/Code/canapy-test/data_short | (annots) /home/nathan/Documents/Code/canapy-test/data_short.>,), {'redo': False}).\n",
      "INFO:canapy:Applying corpus transform tag_silences on ((<Corpus at (audio) /home/nathan/Documents/Code/canapy-test/data_short | (annots) /home/nathan/Documents/Code/canapy-test/data_short.>,), {'redo': False}).\n",
      "INFO:canapy:Applying corpus transform sort_annotations on ((<Corpus at (audio) /home/nathan/Documents/Code/canapy-test/data_short | (annots) /home/nathan/Documents/Code/canapy-test/data_short.>,), {'redo': False}).\n",
      "INFO:canapy:Applying corpus transform remove_short_labels on ((<Corpus at (audio) /home/nathan/Documents/Code/canapy-test/data_short | (annots) /home/nathan/Documents/Code/canapy-test/data_short.>,), {'redo': False}).\n",
      "INFO:canapy:Applying corpus transform sort_annotations on ((<Corpus at (audio) /home/nathan/Documents/Code/canapy-test/data_short | (annots) /home/nathan/Documents/Code/canapy-test/data_short.>,), {'redo': False}).\n",
      "INFO:canapy:Applying training data tranform split_train_test on ((<Corpus at (audio) /home/nathan/Documents/Code/canapy-test/data_short | (annots) /home/nathan/Documents/Code/canapy-test/data_short.>,), {'resource_name': None, 'redo': False}).\n",
      "INFO:canapy:Min. number of sequences to train over all classes : 3\n",
      "INFO:canapy:Final repartition of data - \n",
      "Train : 14 (258 labels - 43.717 s - 15.643 s (w/o silence)\n",
      "Test: 4 (62 labels) - 12.581 s - 3.660 s (w/o silence)\n",
      "INFO:canapy:Applying training data tranform encode_labels on ((<Corpus at (audio) /home/nathan/Documents/Code/canapy-test/data_short | (annots) /home/nathan/Documents/Code/canapy-test/data_short.>,), {'resource_name': None, 'redo': False}).\n",
      "Running ESN-0: 100%|████████████████████████████| 14/14 [00:00<00:00, 45.95it/s]\n",
      "INFO:canapy:Applying audio transform compute_mfcc on ((<Corpus at (audio) /home/nathan/Documents/Code/canapy-test/data_short | (annots) /home/nathan/Documents/Code/canapy-test/data_short.>,), {'output_directory': PosixPath('tuto/spec'), 'resource_name': 'syn_mfcc', 'redo': False}).\n"
     ]
    },
    {
     "name": "stdout",
     "output_type": "stream",
     "text": [
      "Fitting node ESN-0...\n"
     ]
    },
    {
     "name": "stderr",
     "output_type": "stream",
     "text": [
      "INFO:canapy:Applying corpus transform sort_annotations on ((<Corpus at (audio) /home/nathan/Documents/Code/canapy-test/data_short | (annots) /home/nathan/Documents/Code/canapy-test/data_short.>,), {'redo': False}).\n",
      "INFO:canapy:Applying corpus transform merge_labels on ((<Corpus at (audio) /home/nathan/Documents/Code/canapy-test/data_short | (annots) /home/nathan/Documents/Code/canapy-test/data_short.>,), {'redo': False}).\n",
      "INFO:canapy:Applying corpus transform sort_annotations on ((<Corpus at (audio) /home/nathan/Documents/Code/canapy-test/data_short | (annots) /home/nathan/Documents/Code/canapy-test/data_short.>,), {'redo': False}).\n",
      "INFO:canapy:Applying corpus transform tag_silences on ((<Corpus at (audio) /home/nathan/Documents/Code/canapy-test/data_short | (annots) /home/nathan/Documents/Code/canapy-test/data_short.>,), {'redo': False}).\n",
      "INFO:canapy:Applying corpus transform sort_annotations on ((<Corpus at (audio) /home/nathan/Documents/Code/canapy-test/data_short | (annots) /home/nathan/Documents/Code/canapy-test/data_short.>,), {'redo': False}).\n",
      "INFO:canapy:Applying corpus transform remove_short_labels on ((<Corpus at (audio) /home/nathan/Documents/Code/canapy-test/data_short | (annots) /home/nathan/Documents/Code/canapy-test/data_short.>,), {'redo': False}).\n",
      "INFO:canapy:Applying corpus transform sort_annotations on ((<Corpus at (audio) /home/nathan/Documents/Code/canapy-test/data_short | (annots) /home/nathan/Documents/Code/canapy-test/data_short.>,), {'redo': False}).\n",
      "INFO:canapy:Applying training data tranform split_train_test on ((<Corpus at (audio) /home/nathan/Documents/Code/canapy-test/data_short | (annots) /home/nathan/Documents/Code/canapy-test/data_short.>,), {'resource_name': None, 'redo': False}).\n",
      "INFO:canapy:Min. number of sequences to train over all classes : 3\n",
      "INFO:canapy:Final repartition of data - \n",
      "Train : 14 (258 labels - 43.717 s - 15.643 s (w/o silence)\n",
      "Test: 4 (62 labels) - 12.581 s - 3.660 s (w/o silence)\n",
      "INFO:canapy:Applying training data tranform encode_labels on ((<Corpus at (audio) /home/nathan/Documents/Code/canapy-test/data_short | (annots) /home/nathan/Documents/Code/canapy-test/data_short.>,), {'resource_name': None, 'redo': False}).\n",
      "INFO:canapy:Applying training data tranform balance_labels_duration on ((<Corpus at (audio) /home/nathan/Documents/Code/canapy-test/data_short | (annots) /home/nathan/Documents/Code/canapy-test/data_short.>,), {'resource_name': 'balanced_dataset', 'redo': False}).\n",
      "/home/nathan/Documents/Code/canapy-reborn/canapy/transforms/nsynesn.py:99: SettingWithCopyWarning: \n",
      "A value is trying to be set on a copy of a slice from a DataFrame.\n",
      "Try using .loc[row_indexer,col_indexer] = value instead\n",
      "\n",
      "See the caveats in the documentation: https://pandas.pydata.org/pandas-docs/stable/user_guide/indexing.html#returning-a-view-versus-a-copy\n",
      "  subsampled[\"augmented\"] = subsampled.index.duplicated(keep=\"first\")\n",
      "INFO:canapy:Applying training data transform compute_mfcc_for_balanced_dataset on ((<Corpus at (audio) /home/nathan/Documents/Code/canapy-test/data_short | (annots) /home/nathan/Documents/Code/canapy-test/data_short.>,), {'resource_name': 'mfcc_dataset', 'redo': False}).\n",
      "/home/nathan/.cache/pypoetry/virtualenvs/canapy-reborn-9KruUL8x-py3.9/lib/python3.9/site-packages/librosa/core/spectrum.py:257: UserWarning: n_fft=2048 is too large for input signal of length=1940\n",
      "  warnings.warn(\n",
      "/home/nathan/.cache/pypoetry/virtualenvs/canapy-reborn-9KruUL8x-py3.9/lib/python3.9/site-packages/librosa/core/spectrum.py:257: UserWarning: n_fft=2048 is too large for input signal of length=1896\n",
      "  warnings.warn(\n",
      "Running ESN-1: 100%|██████████████████████████| 235/235 [00:04<00:00, 51.25it/s]\n"
     ]
    },
    {
     "name": "stdout",
     "output_type": "stream",
     "text": [
      "Fitting node ESN-1...\n"
     ]
    },
    {
     "data": {
      "text/plain": [
       "<canapy.annotator.ensemble.Ensemble at 0x7fb546df7a00>"
      ]
     },
     "execution_count": 5,
     "metadata": {},
     "output_type": "execute_result"
    }
   ],
   "source": [
    "syn_annotator.fit(corpus_annotated_songs)\n",
    "nsyn_annotator.fit(corpus_annotated_songs)\n",
    "ensemble_annotator.fit(corpus_annotated_songs)"
   ]
  },
  {
   "cell_type": "markdown",
   "metadata": {
    "collapsed": false,
    "jupyter": {
     "outputs_hidden": false
    }
   },
   "source": [
    "## Annotate New Songs\n",
    "\n",
    "Syntaxic (`syn-esn`) and NonSyntaxic (`nsyn-esn`) Annotators annotate new songs with the following lines :"
   ]
  },
  {
   "cell_type": "code",
   "execution_count": 6,
   "metadata": {
    "ExecuteTime": {
     "end_time": "2023-07-21T08:20:24.060785514Z",
     "start_time": "2023-07-21T08:20:13.694850976Z"
    },
    "collapsed": false,
    "jupyter": {
     "outputs_hidden": false
    }
   },
   "outputs": [
    {
     "name": "stderr",
     "output_type": "stream",
     "text": [
      "INFO:canapy:Applying audio transform compute_mfcc on ((<Corpus at (audio) /home/nathan/Documents/Code/canapy-test/data_short | (annots) None.>,), {'output_directory': PosixPath('tuto/spec'), 'resource_name': 'syn_mfcc', 'redo': False}).\n",
      "Running ESN-0: 100%|███████████████████████████| 18/18 [00:00<00:00, 155.82it/s]\n",
      "INFO:canapy:Applying audio transform compute_mfcc on ((<Corpus at (audio) /home/nathan/Documents/Code/canapy-test/data_short | (annots) None.>,), {'output_directory': PosixPath('tuto/spec'), 'resource_name': 'syn_mfcc', 'redo': False}).\n",
      "Running ESN-1: 100%|███████████████████████████| 18/18 [00:00<00:00, 140.51it/s]\n"
     ]
    }
   ],
   "source": [
    "corpus_syn_predicted = syn_annotator.predict(corpus_non_annotated_songs)\n",
    "corpus_nsyn_predicted = nsyn_annotator.predict(corpus_non_annotated_songs)"
   ]
  },
  {
   "cell_type": "markdown",
   "metadata": {},
   "source": [
    "The case of ensemble is a little bit more complicated, because you need to predict some corpus using `return_raw=True`, and then predict with the results."
   ]
  },
  {
   "cell_type": "code",
   "execution_count": 7,
   "metadata": {
    "collapsed": false,
    "jupyter": {
     "outputs_hidden": false
    }
   },
   "outputs": [
    {
     "name": "stderr",
     "output_type": "stream",
     "text": [
      "INFO:canapy:Applying audio transform compute_mfcc on ((<Corpus at (audio) /home/nathan/Documents/Code/canapy-test/data_short | (annots) None.>,), {'output_directory': PosixPath('tuto/spec'), 'resource_name': 'syn_mfcc', 'redo': False}).\n",
      "Running ESN-0: 100%|███████████████████████████| 18/18 [00:00<00:00, 134.20it/s]\n",
      "INFO:canapy:Applying audio transform compute_mfcc on ((<Corpus at (audio) /home/nathan/Documents/Code/canapy-test/data_short | (annots) None.>,), {'output_directory': PosixPath('tuto/spec'), 'resource_name': 'syn_mfcc', 'redo': False}).\n",
      "Running ESN-1: 100%|███████████████████████████| 18/18 [00:00<00:00, 130.27it/s]\n"
     ]
    }
   ],
   "source": [
    "corpus_syn_predicted_raw = syn_annotator.predict(corpus_non_annotated_songs, return_raw=True)\n",
    "corpus_nsyn_predicted_raw = nsyn_annotator.predict(corpus_non_annotated_songs, return_raw=True)\n",
    "\n",
    "corpus_ensemble_predicted = ensemble_annotator.predict([corpus_syn_predicted_raw, corpus_nsyn_predicted_raw])"
   ]
  },
  {
   "cell_type": "markdown",
   "metadata": {
    "collapsed": false,
    "jupyter": {
     "outputs_hidden": false
    }
   },
   "source": [
    "Note : if you planned to predict a corpus with the three types of annotators, no need to predict two times a corpus with syn and nsyn annotators (with and without return_raw) because return_raw just add data on the same corpus that is predicted when it is false."
   ]
  },
  {
   "cell_type": "markdown",
   "metadata": {},
   "source": [
    "## Store Annotations\n",
    "\n",
    "Now that your annotators have made some annotions, you can store it on the disk :"
   ]
  },
  {
   "cell_type": "code",
   "execution_count": 8,
   "metadata": {
    "collapsed": false,
    "jupyter": {
     "outputs_hidden": false
    }
   },
   "outputs": [
    {
     "data": {
      "text/plain": [
       "<Corpus at (audio) None | (annots) None.>"
      ]
     },
     "execution_count": 8,
     "metadata": {},
     "output_type": "execute_result"
    }
   ],
   "source": [
    "corpus_syn_predicted.to_directory(\"./tuto/results/syn\")\n",
    "corpus_nsyn_predicted.to_directory(\"./tuto/results/nsyn\")"
   ]
  },
  {
   "cell_type": "markdown",
   "metadata": {},
   "source": [
    "That's it! You have now new annotation files !"
   ]
  },
  {
   "cell_type": "markdown",
   "metadata": {
    "collapsed": false,
    "jupyter": {
     "outputs_hidden": false
    }
   },
   "source": [
    "## Analyze Annotators' Performances\n",
    "\n",
    "You have annotated new songs, but how good the predictions are ?\n",
    "To figure it out you should use `metrics` to compare annotations that you have made and those made by ESNs.\n",
    "\n",
    "We will analyze only a Syntactic Annotator but the method remains the same for all of them."
   ]
  },
  {
   "cell_type": "code",
   "execution_count": 9,
   "metadata": {
    "collapsed": false,
    "jupyter": {
     "outputs_hidden": false
    }
   },
   "outputs": [
    {
     "name": "stderr",
     "output_type": "stream",
     "text": [
      "INFO:canapy:Applying audio transform compute_mfcc on ((<Corpus at (audio) /home/nathan/Documents/Code/canapy-test/data_short | (annots) /home/nathan/Documents/Code/canapy-test/data_short.>,), {'output_directory': PosixPath('tuto/spec'), 'resource_name': 'syn_mfcc', 'redo': False}).\n",
      "Running ESN-0: 100%|███████████████████████████| 18/18 [00:00<00:00, 133.15it/s]\n"
     ]
    },
    {
     "name": "stdout",
     "output_type": "stream",
     "text": [
      "[[1.00000000e+00 0.00000000e+00 0.00000000e+00 0.00000000e+00\n",
      "  0.00000000e+00 0.00000000e+00 0.00000000e+00 0.00000000e+00]\n",
      " [0.00000000e+00 9.96688742e-01 0.00000000e+00 3.31125828e-03\n",
      "  0.00000000e+00 0.00000000e+00 0.00000000e+00 0.00000000e+00]\n",
      " [7.29660708e-04 3.64830354e-03 9.61510398e-01 3.15578256e-02\n",
      "  1.09449106e-03 5.47245531e-04 7.29660708e-04 1.82415177e-04]\n",
      " [0.00000000e+00 0.00000000e+00 6.23742455e-02 9.37625755e-01\n",
      "  0.00000000e+00 0.00000000e+00 0.00000000e+00 0.00000000e+00]\n",
      " [0.00000000e+00 0.00000000e+00 1.68539326e-02 8.42696629e-02\n",
      "  8.98876404e-01 0.00000000e+00 0.00000000e+00 0.00000000e+00]\n",
      " [0.00000000e+00 0.00000000e+00 2.76073620e-02 9.20245399e-03\n",
      "  0.00000000e+00 9.63190184e-01 0.00000000e+00 0.00000000e+00]\n",
      " [0.00000000e+00 0.00000000e+00 7.26392252e-03 9.68523002e-03\n",
      "  0.00000000e+00 0.00000000e+00 9.83050847e-01 0.00000000e+00]\n",
      " [0.00000000e+00 0.00000000e+00 0.00000000e+00 0.00000000e+00\n",
      "  0.00000000e+00 0.00000000e+00 0.00000000e+00 1.00000000e+00]]\n",
      "{'<NA>': {'precision': 0.7777777777777778, 'recall': 1.0, 'f1-score': 0.8750000000000001, 'support': 14.0}, 'K': {'precision': 0.9376947040498442, 'recall': 0.9966887417218543, 'f1-score': 0.9662921348314606, 'support': 302.0}, 'SIL': {'precision': 0.9913485047959376, 'recall': 0.9615103976650857, 'f1-score': 0.9762015001389018, 'support': 5482.0}, 'a': {'precision': 0.7039274924471299, 'recall': 0.937625754527163, 'f1-score': 0.8041415012942192, 'support': 497.0}, 'b': {'precision': 0.963855421686747, 'recall': 0.898876404494382, 'f1-score': 0.9302325581395349, 'support': 178.0}, 'c': {'precision': 0.9905362776025236, 'recall': 0.9631901840490797, 'f1-score': 0.9766718506998445, 'support': 326.0}, 'd': {'precision': 0.9902439024390244, 'recall': 0.9830508474576272, 'f1-score': 0.9866342648845687, 'support': 413.0}, 'n': {'precision': 0.8571428571428571, 'recall': 1.0, 'f1-score': 0.923076923076923, 'support': 6.0}, 'accuracy': 0.9612080908839014, 'macro avg': {'precision': 0.9015658672427302, 'recall': 0.967617791239399, 'f1-score': 0.9297813416331817, 'support': 7218.0}, 'weighted avg': {'precision': 0.9680093983040083, 'recall': 0.9612080908839014, 'f1-score': 0.9631837082622005, 'support': 7218.0}}\n",
      "                                         notated_path       ser\n",
      "0   /home/nathan/Documents/Code/canapy-test/data_s...  0.000000\n",
      "1   /home/nathan/Documents/Code/canapy-test/data_s...  0.000000\n",
      "2   /home/nathan/Documents/Code/canapy-test/data_s...  0.000000\n",
      "3   /home/nathan/Documents/Code/canapy-test/data_s...  0.000000\n",
      "4   /home/nathan/Documents/Code/canapy-test/data_s...  0.040000\n",
      "5   /home/nathan/Documents/Code/canapy-test/data_s...  0.052632\n",
      "6   /home/nathan/Documents/Code/canapy-test/data_s...  0.200000\n",
      "7   /home/nathan/Documents/Code/canapy-test/data_s...  0.066667\n",
      "8   /home/nathan/Documents/Code/canapy-test/data_s...  0.000000\n",
      "9   /home/nathan/Documents/Code/canapy-test/data_s...  0.058824\n",
      "10  /home/nathan/Documents/Code/canapy-test/data_s...  0.000000\n",
      "11  /home/nathan/Documents/Code/canapy-test/data_s...  0.000000\n",
      "12  /home/nathan/Documents/Code/canapy-test/data_s...  0.040000\n",
      "13  /home/nathan/Documents/Code/canapy-test/data_s...  0.000000\n",
      "14  /home/nathan/Documents/Code/canapy-test/data_s...  0.000000\n",
      "15  /home/nathan/Documents/Code/canapy-test/data_s...  0.076923\n",
      "16  /home/nathan/Documents/Code/canapy-test/data_s...  0.214286\n",
      "17  /home/nathan/Documents/Code/canapy-test/data_s...  0.000000\n"
     ]
    }
   ],
   "source": [
    "corpus_annotated_songs_predicted = syn_annotator.predict(corpus_annotated_songs)\n",
    "\n",
    "print(metrics.sklearn_confusion_matrix(corpus_annotated_songs, corpus_annotated_songs_predicted))\n",
    "\n",
    "print(metrics.sklearn_classification_report(corpus_annotated_songs, corpus_annotated_songs_predicted))\n",
    "\n",
    "print(metrics.segment_error_rate(corpus_annotated_songs, corpus_annotated_songs_predicted))\n"
   ]
  },
  {
   "cell_type": "code",
   "execution_count": null,
   "metadata": {},
   "outputs": [],
   "source": []
  }
 ],
 "metadata": {
  "kernelspec": {
   "display_name": "Python 3 (ipykernel)",
   "language": "python",
   "name": "python3"
  },
  "language_info": {
   "codemirror_mode": {
    "name": "ipython",
    "version": 3
   },
   "file_extension": ".py",
   "mimetype": "text/x-python",
   "name": "python",
   "nbconvert_exporter": "python",
   "pygments_lexer": "ipython3",
   "version": "3.11.7"
  }
 },
 "nbformat": 4,
 "nbformat_minor": 4
}
